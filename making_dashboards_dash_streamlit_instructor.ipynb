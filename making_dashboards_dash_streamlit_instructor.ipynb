{
 "cells": [
  {
   "cell_type": "markdown",
   "metadata": {},
   "source": [
    "# Dashboarding (with Dash & Streamlit)"
   ]
  },
  {
   "cell_type": "markdown",
   "metadata": {},
   "source": [
    "- onl01-dtsc-ft-022221\n",
    "- Updated 07/04/21"
   ]
  },
  {
   "cell_type": "markdown",
   "metadata": {},
   "source": [
    "## Learning Objectives"
   ]
  },
  {
   "cell_type": "markdown",
   "metadata": {},
   "source": [
    "- Developing a Dash app inside a Jupyter Notebook first with `JupyterDash`.\n",
    "\n",
    "- Become familiar with the fundamentals of making a Dash app.\n",
    "    - Learn The Required Imports and what they contain\n",
    "        - Dash HTML\n",
    "        - Dash Core Components\n",
    "    - Learn how to set up callbacks\n",
    "        - Walk Through Basic Callbacks and Advanced Callbacks (with State)\n",
    "\n",
    "\n",
    "- Walk-through using an API (Yahoo Finance stock prices via Pandas DataReader) to update dashboard data based on user input\n",
    "\n",
    "\n",
    "- Compare our Dash app to using the new package Streamlit."
   ]
  },
  {
   "cell_type": "markdown",
   "metadata": {},
   "source": [
    "# Installing `Dash` and Our First Tutorial App"
   ]
  },
  {
   "cell_type": "markdown",
   "metadata": {},
   "source": [
    "- Check Dash's documentation for the installation code. \n",
    "    - https://dash.plotly.com/installation\n",
    "- Primary Package: `pip install dash`\n",
    "- Add-On to Develop Apps in JupyterNotebook: `pip install jupyter-dash`\n",
    "\n",
    "\n",
    "        \n",
    "> NOTE: You may need to install dash in your base Conda Environment if you get an error about no package named dash. To do so, just deactivate learn-env and then run the pip install command again.\n",
    "\n",
    "- To Switch to Your Base Environment in your terminal:\n",
    "    - On Mac:\n",
    "    ```bash\n",
    "    ## Deactivate Learn-Env\n",
    "    conda deactivate\n",
    "    ## Install Dash\n",
    "    pip install dash\n",
    "    ## Then reactivate learn-env\n",
    "    conda activate learn-env\n",
    "    ```\n",
    "    - On Windows:\n",
    "    ```bash\n",
    "    ## Deactivate Learn-Env\n",
    "    source deactivate\n",
    "    ## Install Dash\n",
    "    pip install dash\n",
    "    ## Then reactivate learn-env\n",
    "    source activate learn-env\n",
    "    ```"
   ]
  },
  {
   "cell_type": "code",
   "execution_count": null,
   "metadata": {
    "ExecuteTime": {
     "end_time": "2021-07-06T14:41:30.391618Z",
     "start_time": "2021-07-06T14:41:24.521603Z"
    }
   },
   "outputs": [],
   "source": [
    "## Run these installation commands (do via terminal without \"!\" if you have issues)\n",
    "!pip install dash\n",
    "!pip install jupyter-dash"
   ]
  },
  {
   "cell_type": "code",
   "execution_count": null,
   "metadata": {
    "ExecuteTime": {
     "end_time": "2021-07-06T14:41:31.953075Z",
     "start_time": "2021-07-06T14:41:30.394493Z"
    }
   },
   "outputs": [],
   "source": [
    "import dash\n",
    "dash.__version__"
   ]
  },
  {
   "cell_type": "markdown",
   "metadata": {},
   "source": [
    "## Our First Basic App"
   ]
  },
  {
   "cell_type": "markdown",
   "metadata": {},
   "source": [
    "### App Layout\n",
    "- Copy the [Dash Tutorial's app layout](https://dash.plotly.com/layout) as a starting point (see below)\n",
    "- Let's first use it in an external .py file `for_class/tutorial_app.py`\n",
    "- Open a new terminal and navigate to the folder with the tutorial_app.py file. \n",
    "- Then run: `python tutorial_app.py`\n",
    "- Open the displayed URL (should start with 127...) to see the app!"
   ]
  },
  {
   "cell_type": "markdown",
   "metadata": {},
   "source": [
    "### Copy the tutorial app and paste into the `app.py` file in this repo"
   ]
  },
  {
   "cell_type": "markdown",
   "metadata": {},
   "source": [
    "- Normally, Dash apps live inside of .py files (traditionall `app.py`) and we run them from our terminal with `python app.py`\n",
    "- The app then boots up and you can view it by navigating the displayed address  (usually http://127.0.0.1:8050/ )"
   ]
  },
  {
   "cell_type": "markdown",
   "metadata": {},
   "source": [
    "> - [ ] In your terminal, cd into this repo's directory and then `python app.py`"
   ]
  },
  {
   "cell_type": "markdown",
   "metadata": {},
   "source": [
    "# Using `JupyterDash` to Develop a Dash App in Your Notebook"
   ]
  },
  {
   "cell_type": "markdown",
   "metadata": {},
   "source": [
    "- To develop your apps inside your notebook instead of inside a .py file, use `JupyterDash`!\n",
    "\n",
    "- [`JupyterDash`is a package](https://github.com/plotly/jupyter-dash) that lets us run and display Dash apps inside our Jupyter notebook.\n",
    "- To Install:\n",
    "`pip install jupyter_plotly_dash`\n",
    "\n",
    "#### There are 2 major changes we have to make:\n",
    "1. All we have to do is change how we initialize our app:\n",
    "```python \n",
    "import dash\n",
    "app = dash.Dash(__name__, external_stylesheets=external_stylesheets)\n",
    "```\n",
    "becomes \n",
    "```python\n",
    "from jupyter_plotly_dash import JupyterDash\n",
    "app = JupyterDash('our app')\n",
    "```\n",
    "    - Unfortunately CSS styling is not supported in JupyterDash, so for now we will exclude the external_stylesheets argument. \n",
    "\n",
    "- And the `if __name__ == '__main__'` code at the bottom of the .py file:\n",
    "```python\n",
    "if __name__ == '__main__':\n",
    "    app.run_server(debug=True)\n",
    "```\n",
    "become: \n",
    "```python \n",
    "app.run_server(mode='inline',host = '127.0.0.1')\n",
    "```\n",
    "> Note the `host = '127.0.0.1'` arg was added as a workaround for an error regarding gaia sockets. "
   ]
  },
  {
   "cell_type": "code",
   "execution_count": null,
   "metadata": {
    "ExecuteTime": {
     "end_time": "2021-07-06T14:41:32.172030Z",
     "start_time": "2021-07-06T14:41:31.955343Z"
    }
   },
   "outputs": [],
   "source": [
    "# !pip install -U jupyter_plotly_dash\n",
    "# from jupyter_plotly_dash import JupyterDash\n",
    "\n",
    "\n",
    "# pip install jupyter-dash\n",
    "from jupyter_dash import JupyterDash"
   ]
  },
  {
   "cell_type": "code",
   "execution_count": null,
   "metadata": {
    "ExecuteTime": {
     "end_time": "2021-07-06T14:41:34.808222Z",
     "start_time": "2021-07-06T14:41:32.174700Z"
    }
   },
   "outputs": [],
   "source": [
    "# -*- coding: utf-8 -*-\n",
    "\n",
    "# Run this app with `python app.py` and\n",
    "# visit http://127.0.0.1:8050/ in your web browser.\n",
    "\n",
    "import dash\n",
    "import dash_core_components as dcc\n",
    "import dash_html_components as html\n",
    "import plotly.express as px\n",
    "import pandas as pd\n",
    "\n",
    "external_stylesheets = ['https://codepen.io/chriddyp/pen/bWLwgP.css']\n",
    "\n",
    "app = JupyterDash('example',external_stylesheets=external_stylesheets)\n",
    "\n",
    "# assume you have a \"long-form\" data frame\n",
    "# see https://plotly.com/python/px-arguments/ for more options\n",
    "df = pd.DataFrame({\n",
    "    \"Fruit\": [\"Apples\", \"Oranges\", \"Bananas\", \"Apples\", \"Oranges\", \"Bananas\"],\n",
    "    \"Amount\": [4, 1, 2, 2, 4, 5],\n",
    "    \"City\": [\"SF\", \"SF\", \"SF\", \"Montreal\", \"Montreal\", \"Montreal\"]\n",
    "})\n",
    "\n",
    "fig = px.bar(df, x=\"Fruit\", y=\"Amount\", color=\"City\", barmode=\"group\")\n",
    "\n",
    "app.layout = html.Div(children=[\n",
    "    html.H1(children='Hello Dash'),\n",
    "\n",
    "    html.Div(children='''\n",
    "        Dash: A web application framework for Python.\n",
    "    '''),\n",
    "\n",
    "    dcc.Graph(\n",
    "        id='example-graph',\n",
    "        figure=fig\n",
    "    )\n",
    "])\n",
    "\n",
    "# if __name__ == '__main__':\n",
    "#     app.run_server(debug=True)\n",
    "app.run_server(mode='inline',host = '127.0.0.1')"
   ]
  },
  {
   "cell_type": "markdown",
   "metadata": {},
   "source": [
    "# Making Our Own App for Displaying Stock Data"
   ]
  },
  {
   "cell_type": "markdown",
   "metadata": {},
   "source": [
    "## Importing and Using Plotly, Pandas DataReader"
   ]
  },
  {
   "cell_type": "code",
   "execution_count": null,
   "metadata": {
    "ExecuteTime": {
     "end_time": "2021-07-06T14:41:35.364954Z",
     "start_time": "2021-07-06T14:41:34.810946Z"
    }
   },
   "outputs": [],
   "source": [
    "## General Imports\n",
    "import numpy as np\n",
    "np.random.seed(321)\n",
    "\n",
    "import pandas as pd\n",
    "import matplotlib.pyplot as plt\n",
    "import seaborn as sns\n",
    "plt.rcParams['figure.figsize'] = (12,4)"
   ]
  },
  {
   "cell_type": "markdown",
   "metadata": {},
   "source": [
    "### Pandas DataReader"
   ]
  },
  {
   "cell_type": "code",
   "execution_count": null,
   "metadata": {
    "ExecuteTime": {
     "end_time": "2021-07-06T14:41:35.399047Z",
     "start_time": "2021-07-06T14:41:35.367334Z"
    }
   },
   "outputs": [],
   "source": [
    "##%conda install -c anaconda pandas-datareader\n",
    "# !pip install pandas_datareader\n",
    "# !pip install yfinance\n",
    "\n",
    "import pandas as pd\n",
    "from pandas_datareader import data as pdr\n",
    "import yfinance as yfin\n",
    "yfin.pdr_override()"
   ]
  },
  {
   "cell_type": "code",
   "execution_count": null,
   "metadata": {
    "ExecuteTime": {
     "end_time": "2021-07-06T14:41:35.710006Z",
     "start_time": "2021-07-06T14:41:35.401249Z"
    }
   },
   "outputs": [],
   "source": [
    "import datetime as dt\n",
    "today = dt.date.today()\n",
    "example = pdr.get_data_yahoo(\"AMZN\", start=\"2016-01-01\", end=today)\n",
    "example"
   ]
  },
  {
   "cell_type": "code",
   "execution_count": null,
   "metadata": {
    "ExecuteTime": {
     "end_time": "2021-07-06T14:41:35.965033Z",
     "start_time": "2021-07-06T14:41:35.715981Z"
    }
   },
   "outputs": [],
   "source": [
    "example['Adj Close'].plot()"
   ]
  },
  {
   "cell_type": "code",
   "execution_count": null,
   "metadata": {
    "ExecuteTime": {
     "end_time": "2021-07-06T14:41:35.970082Z",
     "start_time": "2021-07-06T14:41:35.967789Z"
    }
   },
   "outputs": [],
   "source": [
    "# example['Adj Close'].diff().plot()"
   ]
  },
  {
   "cell_type": "code",
   "execution_count": null,
   "metadata": {
    "ExecuteTime": {
     "end_time": "2021-07-06T14:41:36.573840Z",
     "start_time": "2021-07-06T14:41:35.972435Z"
    }
   },
   "outputs": [],
   "source": [
    "example.plot(y='Adj Close')"
   ]
  },
  {
   "cell_type": "markdown",
   "metadata": {},
   "source": [
    "### Plotting with Plotly Express"
   ]
  },
  {
   "cell_type": "markdown",
   "metadata": {},
   "source": [
    "- Plotly Express Overview:\n",
    "    - https://plotly.com/python/plotly-express/"
   ]
  },
  {
   "cell_type": "code",
   "execution_count": null,
   "metadata": {
    "ExecuteTime": {
     "end_time": "2021-07-06T14:41:36.590367Z",
     "start_time": "2021-07-06T14:41:36.584770Z"
    }
   },
   "outputs": [],
   "source": [
    "## Plotly Imports\n",
    "import plotly.express as px\n",
    "import plotly.io as pio\n",
    "pio.templates"
   ]
  },
  {
   "cell_type": "code",
   "execution_count": null,
   "metadata": {
    "ExecuteTime": {
     "end_time": "2021-07-06T14:41:36.936915Z",
     "start_time": "2021-07-06T14:41:36.602214Z"
    }
   },
   "outputs": [],
   "source": [
    "## Setting Plotly Theme\n",
    "pio.templates.default = \"plotly_dark\""
   ]
  },
  {
   "cell_type": "code",
   "execution_count": null,
   "metadata": {
    "ExecuteTime": {
     "end_time": "2021-07-06T14:41:38.676959Z",
     "start_time": "2021-07-06T14:41:36.941182Z"
    }
   },
   "outputs": [],
   "source": [
    "pfig = px.scatter(example,y='Adj Close',title='GOOGL')\n",
    "pfig"
   ]
  },
  {
   "cell_type": "markdown",
   "metadata": {},
   "source": [
    "### Extending to Multiple Stocks"
   ]
  },
  {
   "cell_type": "code",
   "execution_count": null,
   "metadata": {
    "ExecuteTime": {
     "end_time": "2021-07-06T14:41:41.786604Z",
     "start_time": "2021-07-06T14:41:38.680230Z"
    }
   },
   "outputs": [],
   "source": [
    "## List of symbols to grab\n",
    "symbols = ['FB','AAPL','GOOGL','AMZN','MSFT']\n",
    "import datetime as dt\n",
    "today = dt.date.today()\n",
    "\n",
    "data = {}\n",
    "for stock in symbols:\n",
    "    data[stock] =  pdr.get_data_yahoo(stock,'2012-01-01',today)['Adj Close']\n",
    "df = pd.DataFrame(data)#.reset_index()\n",
    "df"
   ]
  },
  {
   "cell_type": "code",
   "execution_count": null,
   "metadata": {
    "ExecuteTime": {
     "end_time": "2021-07-06T14:41:41.791346Z",
     "start_time": "2021-07-06T14:41:41.788389Z"
    }
   },
   "outputs": [],
   "source": [
    "import plotly\n",
    "plotly.__version__"
   ]
  },
  {
   "cell_type": "code",
   "execution_count": null,
   "metadata": {
    "ExecuteTime": {
     "end_time": "2021-07-06T14:41:42.068758Z",
     "start_time": "2021-07-06T14:41:41.793607Z"
    }
   },
   "outputs": [],
   "source": [
    "## PLotting with PLotly Express\n",
    "pfig = px.scatter(df,y=['FB','GOOGL'])\n",
    "pfig"
   ]
  },
  {
   "cell_type": "markdown",
   "metadata": {
    "ExecuteTime": {
     "end_time": "2020-12-30T22:36:27.399417Z",
     "start_time": "2020-12-30T22:36:27.397230Z"
    }
   },
   "source": [
    "### Functionizing Loading Data + Plotting"
   ]
  },
  {
   "cell_type": "code",
   "execution_count": null,
   "metadata": {
    "ExecuteTime": {
     "end_time": "2021-07-06T14:41:42.074738Z",
     "start_time": "2021-07-06T14:41:42.070379Z"
    }
   },
   "outputs": [],
   "source": [
    "import datetime as dt\n",
    "import time\n",
    "\n",
    "today = dt.date.today()\n",
    "def get_data(start_date='2012-02-01',end_date=today,\n",
    "             symbols = ['FB','AAPL','GOOGL','AMZN','MSFT','TSLA']):\n",
    "    \"\"\" Gets the historical stock dataa for the provided symbols for the \n",
    "    time period requested \n",
    "    \"\"\"\n",
    "    data = {}\n",
    "    for stock in symbols:\n",
    "        time.sleep(0.1)\n",
    "        try:\n",
    "            data[stock] = pdr.get_data_yahoo(stock,start_date,end_date)['Adj Close']\n",
    "        except:\n",
    "            print('Error with stock: '+stock)\n",
    "    df = pd.DataFrame(data)#.reset_index()\n",
    "    return df"
   ]
  },
  {
   "cell_type": "code",
   "execution_count": null,
   "metadata": {
    "ExecuteTime": {
     "end_time": "2021-07-06T14:41:44.079986Z",
     "start_time": "2021-07-06T14:41:42.077530Z"
    }
   },
   "outputs": [],
   "source": [
    "df = get_data(start_date='2016-03-01',end_date=today)\n",
    "df"
   ]
  },
  {
   "cell_type": "code",
   "execution_count": null,
   "metadata": {
    "ExecuteTime": {
     "end_time": "2021-07-06T14:41:44.482711Z",
     "start_time": "2021-07-06T14:41:44.082324Z"
    }
   },
   "outputs": [],
   "source": [
    "def plot_stocks(df,stocks=None):\n",
    "#     if len(stocks)==0:\n",
    "#         stocks=None\n",
    "    pfig = px.scatter(df,y=stocks)\n",
    "    return pfig\n",
    "    \n",
    "fig = plot_stocks(df)\n",
    "fig"
   ]
  },
  {
   "cell_type": "code",
   "execution_count": null,
   "metadata": {
    "ExecuteTime": {
     "end_time": "2021-07-06T14:41:44.645793Z",
     "start_time": "2021-07-06T14:41:44.484776Z"
    }
   },
   "outputs": [],
   "source": [
    "## PLotting 2 of the available cols   \n",
    "fig = plot_stocks(df,['FB','MSFT'])\n",
    "fig"
   ]
  },
  {
   "cell_type": "markdown",
   "metadata": {},
   "source": [
    "## Making Our First Stock Data App"
   ]
  },
  {
   "cell_type": "markdown",
   "metadata": {},
   "source": [
    "- For our first app we will get the data for a larger number of stock symbols\n",
    "- We will then provide a Dropdown box for the user to select which stocks they would like to see."
   ]
  },
  {
   "cell_type": "code",
   "execution_count": null,
   "metadata": {
    "ExecuteTime": {
     "end_time": "2021-07-06T14:41:44.974479Z",
     "start_time": "2021-07-06T14:41:44.647459Z"
    }
   },
   "outputs": [],
   "source": [
    "## getting S&P500 symbols\n",
    "import requests\n",
    "url= 'https://en.wikipedia.org/wiki/List_of_S%26P_500_companies'\n",
    "response = requests.get(url)\n",
    "response.status_code"
   ]
  },
  {
   "cell_type": "code",
   "execution_count": null,
   "metadata": {
    "ExecuteTime": {
     "end_time": "2021-07-06T14:41:45.831773Z",
     "start_time": "2021-07-06T14:41:44.976571Z"
    }
   },
   "outputs": [],
   "source": [
    "## Get tables from url\n",
    "result = pd.read_html(response.content)\n",
    "result"
   ]
  },
  {
   "cell_type": "code",
   "execution_count": null,
   "metadata": {
    "ExecuteTime": {
     "end_time": "2021-07-06T14:41:45.859822Z",
     "start_time": "2021-07-06T14:41:45.839646Z"
    }
   },
   "outputs": [],
   "source": [
    "print(type(result))\n",
    "print(len(result))\n",
    "result[0]"
   ]
  },
  {
   "cell_type": "code",
   "execution_count": null,
   "metadata": {
    "ExecuteTime": {
     "end_time": "2021-07-06T14:41:45.878342Z",
     "start_time": "2021-07-06T14:41:45.863498Z"
    }
   },
   "outputs": [],
   "source": [
    "## Gettting S&P500\n",
    "sp500 = result[0].copy()\n",
    "sp500.head()"
   ]
  },
  {
   "cell_type": "code",
   "execution_count": null,
   "metadata": {
    "ExecuteTime": {
     "end_time": "2021-07-06T14:41:45.887593Z",
     "start_time": "2021-07-06T14:41:45.880961Z"
    }
   },
   "outputs": [],
   "source": [
    "## Let's grab just one sector \n",
    "sp500['GICS Sector'].value_counts()"
   ]
  },
  {
   "cell_type": "code",
   "execution_count": null,
   "metadata": {
    "ExecuteTime": {
     "end_time": "2021-07-06T14:41:45.897734Z",
     "start_time": "2021-07-06T14:41:45.890826Z"
    }
   },
   "outputs": [],
   "source": [
    "## Pick a sector to use\n",
    "sector='Health Care'#'Communication Services'\n",
    "stocks_to_get = sp500.loc[ sp500['GICS Sector'] == sector,\n",
    "                          'Symbol'].to_list()\n",
    "stocks_to_get"
   ]
  },
  {
   "cell_type": "code",
   "execution_count": null,
   "metadata": {
    "ExecuteTime": {
     "end_time": "2021-07-06T14:41:45.905645Z",
     "start_time": "2021-07-06T14:41:45.901097Z"
    }
   },
   "outputs": [],
   "source": [
    "len(stocks_to_get)"
   ]
  },
  {
   "cell_type": "code",
   "execution_count": null,
   "metadata": {
    "ExecuteTime": {
     "end_time": "2021-07-06T14:42:09.856001Z",
     "start_time": "2021-07-06T14:41:45.907870Z"
    }
   },
   "outputs": [],
   "source": [
    "## Getting the data FIRST\n",
    "df = get_data(symbols=stocks_to_get)\n",
    "df"
   ]
  },
  {
   "cell_type": "code",
   "execution_count": null,
   "metadata": {
    "ExecuteTime": {
     "end_time": "2021-07-06T14:42:09.886717Z",
     "start_time": "2021-07-06T14:42:09.857923Z"
    }
   },
   "outputs": [],
   "source": [
    "df"
   ]
  },
  {
   "cell_type": "code",
   "execution_count": null,
   "metadata": {
    "ExecuteTime": {
     "end_time": "2021-07-06T14:42:16.325578Z",
     "start_time": "2021-07-06T14:42:09.888929Z"
    }
   },
   "outputs": [],
   "source": [
    "plot_stocks(df)"
   ]
  },
  {
   "cell_type": "markdown",
   "metadata": {},
   "source": [
    "### Constructing our App"
   ]
  },
  {
   "cell_type": "code",
   "execution_count": null,
   "metadata": {
    "ExecuteTime": {
     "end_time": "2021-07-06T14:42:16.330609Z",
     "start_time": "2021-07-06T14:42:16.327785Z"
    }
   },
   "outputs": [],
   "source": [
    "import dash\n",
    "import dash_core_components as dcc\n",
    "import dash_html_components as html"
   ]
  },
  {
   "cell_type": "markdown",
   "metadata": {},
   "source": [
    "- `dash_core_components` (dcc) contains widgets.\n",
    "    - We will use `dcc.Dropdown` to select stocks to display\n",
    "- `dash_html_components` (html) contains HTML tags as objects. (Div, H1, etc.)\n",
    "    - We will use `html` for the layout of our app."
   ]
  },
  {
   "cell_type": "code",
   "execution_count": null,
   "metadata": {
    "ExecuteTime": {
     "end_time": "2021-07-06T14:42:19.913796Z",
     "start_time": "2021-07-06T14:42:16.333270Z"
    }
   },
   "outputs": [],
   "source": [
    "## App here\n",
    "app = JupyterDash('First App',external_stylesheets=external_stylesheets)\n",
    "\n",
    "app.layout = html.Div(children=[\n",
    "    html.H1('Our AMAZING dashboard!'),\n",
    "    html.H2('Lets see if we can make something cool...'),\n",
    "    dcc.Graph(id='stock_graph',figure=plot_stocks(df))\n",
    "])\n",
    "app.run_server(mode='inline',host = '127.0.0.1')\n",
    "\n"
   ]
  },
  {
   "cell_type": "markdown",
   "metadata": {},
   "source": [
    "## Our App with Dropdown"
   ]
  },
  {
   "cell_type": "markdown",
   "metadata": {},
   "source": [
    "- The Dropdown menu expects a list of dictionaries for the options to display. \n",
    "    - Each element of the list gets a `'label'` (what to show the user) and a `'value'` (what the actual data is named).\n",
    "    \n",
    "    \n",
    "```python\n",
    "\n",
    "stock_options= [{'label':'MSFT','value':'MSFT'},\n",
    "               {'label':'AMZN','value':'AMZN'}]\n",
    "```\n"
   ]
  },
  {
   "cell_type": "code",
   "execution_count": null,
   "metadata": {
    "ExecuteTime": {
     "end_time": "2021-07-06T14:42:19.924671Z",
     "start_time": "2021-07-06T14:42:19.916251Z"
    }
   },
   "outputs": [],
   "source": [
    "def make_options(menu_choices,ignore_cols=['Date']):\n",
    "    \"\"\"Returns list of dictionary with {'label':menu_choice,'value':menu_choice}\"\"\"\n",
    "    options = []\n",
    "    for choice in menu_choices:\n",
    "        if choice not in ignore_cols:\n",
    "            options.append({'label':choice,'value':choice})\n",
    "    return options\n",
    "\n",
    "make_options(df.columns)"
   ]
  },
  {
   "cell_type": "code",
   "execution_count": null,
   "metadata": {
    "ExecuteTime": {
     "end_time": "2021-07-06T14:42:24.875112Z",
     "start_time": "2021-07-06T14:42:19.927535Z"
    },
    "scrolled": false
   },
   "outputs": [],
   "source": [
    "## App here\n",
    "## App here\n",
    "app = JupyterDash('First App', external_stylesheets=external_stylesheets)\n",
    "\n",
    "app.layout = html.Div(children=[\n",
    "    html.H1('Our AMAZING dashboard!'),\n",
    "    html.H2('Lets see if we can make something cool...'),\n",
    "    dcc.Dropdown(options=make_options(df),multi=True),\n",
    "    dcc.Graph(id='stock_graph',figure=plot_stocks(df))\n",
    "])\n",
    "app.run_server(mode='inline',host = '127.0.0.1')\n",
    "\n"
   ]
  },
  {
   "cell_type": "markdown",
   "metadata": {},
   "source": [
    "> #### It is still showing ALL of the data. Why? <br> Because we need Callbacks!\n"
   ]
  },
  {
   "cell_type": "markdown",
   "metadata": {},
   "source": [
    "# Dash Callbacks"
   ]
  },
  {
   "cell_type": "markdown",
   "metadata": {},
   "source": [
    "**Callbacks are functions that handle the interactivity between elements of our app**\n",
    "\n",
    ">#### Callback Documentation\\\n",
    "- https://dash.plotly.com/basic-callbacks\n",
    "- https://dash.plotly.com/advanced-callbacks"
   ]
  },
  {
   "cell_type": "markdown",
   "metadata": {},
   "source": [
    "## Basic Callbacks"
   ]
  },
  {
   "cell_type": "markdown",
   "metadata": {},
   "source": [
    "### To write a callback you will need: "
   ]
  },
  {
   "cell_type": "markdown",
   "metadata": {},
   "source": [
    "1. Additional imports from dash.dependencies\n",
    "```python\n",
    "from dash.dependencies import Input, Output\n",
    "```\n",
    "2. To make sure all components that need to connect together to have an `id`\n",
    "```python\n",
    "dcc.Dropdown(id='choose_stocks',...\n",
    "         ```\n",
    "- A function that will update the visuals displayed\n",
    "```python\n",
    "def update_stocks(stocks):\n",
    "    return plot_stocks(df,stocks=stocks)\n",
    "```\n",
    "- A decorator function above that which uses the `Input` and `Output` classes to connect the arguments of your function with the pieces of the app that contain the information needed.\n",
    "\n",
    "```python\n",
    "@app.callback(Output('line_plot','figure'),\n",
    "              [Input('choose_stocks','value')])\n",
    "def update_stocks(stocks):\n",
    "    return plot_stocks(df,stocks=stocks)\n",
    "```"
   ]
  },
  {
   "cell_type": "code",
   "execution_count": null,
   "metadata": {
    "ExecuteTime": {
     "end_time": "2021-07-06T14:42:52.430593Z",
     "start_time": "2021-07-06T14:42:52.072907Z"
    }
   },
   "outputs": [],
   "source": [
    "## App here\n",
    "from dash.dependencies import Input, Output\n",
    "## App here\n",
    "## App here\n",
    "app = JupyterDash('First App')#, external_stylesheets=external_stylesheets)\n",
    "\n",
    "app.layout = html.Div(children=[\n",
    "    html.H1('Our AMAZING dashboard!'),\n",
    "    html.H2('Lets see if we can make something cool...'),\n",
    "    dcc.Dropdown(id='choose_stocks',options=make_options(df),multi=True),\n",
    "    dcc.Graph(id='stock_graph')\n",
    "])\n",
    "\n",
    "@app.callback(Output('stock_graph','figure'),\n",
    "             [Input('choose_stocks','value')])\n",
    "def update_stocks(stocks):\n",
    "    return plot_stocks(df, stocks)\n",
    "app.run_server(mode='inline',host='127.0.0.1')\n",
    "\n"
   ]
  },
  {
   "cell_type": "markdown",
   "metadata": {},
   "source": [
    "## More Advanced Callbacks"
   ]
  },
  {
   "cell_type": "markdown",
   "metadata": {},
   "source": [
    "- Multiple Inputs/Outputs"
   ]
  },
  {
   "cell_type": "markdown",
   "metadata": {},
   "source": [
    "### Adding Date Selection\n",
    "- https://dash.plotly.com/dash-core-components/datepickerrange"
   ]
  },
  {
   "cell_type": "code",
   "execution_count": null,
   "metadata": {
    "ExecuteTime": {
     "end_time": "2021-07-06T14:42:25.276867Z",
     "start_time": "2021-07-06T14:42:25.243086Z"
    }
   },
   "outputs": [],
   "source": [
    "import datetime as dt\n",
    "from datetime import date\n",
    "from pandas_datareader import data as pdr\n",
    "import yfinance as yfin\n",
    "yfin.pdr_override()\n",
    "\n",
    "import dash\n",
    "import dash_core_components as dcc\n",
    "import dash_html_components as html\n",
    "from dash.dependencies import Input, Output,State\n",
    "\n",
    "import numpy as np\n",
    "np.random.seed(321)\n",
    "\n",
    "import pandas as pd\n",
    "import matplotlib.pyplot as plt\n",
    "import seaborn as sns\n",
    "plt.rcParams['figure.figsize'] = (12,4)\n",
    "\n",
    "import plotly.express as px\n",
    "import plotly.io as pio\n",
    "pio.templates.default = \"plotly_dark\"\n",
    "\n",
    "from jupyter_dash import JupyterDash\n",
    "\n",
    "\n",
    "today = dt.date.today().strftime(\"%Y-%m-%d\")\n",
    "def get_data(start_date='2012-02-01',end_date=today,\n",
    "             symbols = ['FB','AAPL','GOOGL','AMZN','MSFT','TSLA']):\n",
    "    \"\"\" Gets the historical stock dataa for the provided symbols for the \n",
    "    time period requested \n",
    "    \"\"\"\n",
    "    data = {}\n",
    "    for stock in symbols:\n",
    "        time.sleep(0.1)\n",
    "        try:\n",
    "            data[stock] = pdr.get_data_yahoo(stock,start_date,end_date)['Adj Close']\n",
    "        except:\n",
    "            print('Error with stock: '+stock)\n",
    "    df = pd.DataFrame(data)#.reset_index()\n",
    "    return df\n",
    "\n",
    "\n",
    "def plot_stocks_df(df=None,stocks=['FB','AAPL']):\n",
    "    if df is None:\n",
    "        df = get_data(stocks)#.reset_index()\n",
    "    \n",
    "    if df.index.name==\"Date\":\n",
    "        df.reset_index(inplace=True)\n",
    "    stocks_exist = [s for s in stocks if s in df.columns]\n",
    "    pfig = px.scatter(df,x='Date',y=stocks_exist)\n",
    "    return pfig"
   ]
  },
  {
   "cell_type": "code",
   "execution_count": null,
   "metadata": {
    "ExecuteTime": {
     "end_time": "2021-07-06T14:43:03.538440Z",
     "start_time": "2021-07-06T14:43:03.172423Z"
    },
    "scrolled": true
   },
   "outputs": [],
   "source": [
    "app = JupyterDash('Example')#, external_stylesheets=external_stylesheets)\n",
    "defaults = ['MSFT','AMZN']\n",
    "# df = get_data(date(2012, 1, 1))\n",
    "\n",
    "app.layout = html.Div(children = [\n",
    "    html.H1('Our AMAZING Dashboard'),\n",
    "    \n",
    "    html.Div(children=[\n",
    "        \n",
    "        html.Div(style={\"border\":'1px solid black','padding':'3px'},id='menu',children=[\n",
    "            html.H3('Enter stock symbols, separated by a comma.\\nPress Enter to update.'),\n",
    "\n",
    "            dcc.Input(id='choose_stocks',value='MSFT,AMZN',\n",
    "                      placeholder='MSFT,AAPL',#,\n",
    "                         style={'width': '90%', 'height': 50}),           \n",
    "\n",
    "            dcc.DatePickerRange( id='my-date-picker-range',\n",
    "                                start_date=date(2012,1,1),\n",
    "                                min_date_allowed=date(2010, 1, 1),\n",
    "                                max_date_allowed=today,\n",
    "                                end_date=today,style={'width':'50%'}),\n",
    "    \n",
    "        ]),\n",
    "        \n",
    "        dcc.Graph(id='line_plot')\n",
    "    ])\n",
    "])\n",
    "\n",
    "@app.callback(Output('line_plot','figure'),\n",
    "              [Input('choose_stocks','value'),\n",
    "               Input('my-date-picker-range', 'start_date'),\n",
    "               Input('my-date-picker-range', 'end_date')])\n",
    "def update_stocks(stocks,start_date,end_date):\n",
    "    stocks = stocks.split(',')\n",
    "    plot_df = get_data(start_date,end_date,symbols=stocks)\n",
    "    return plot_stocks_df(df=plot_df,stocks=stocks)#,start_date,end_date)\n",
    "    \n",
    "app.run_server(mode='inline',host='127.0.0.1')"
   ]
  },
  {
   "cell_type": "markdown",
   "metadata": {},
   "source": [
    "### Multiple Inputs with State"
   ]
  },
  {
   "cell_type": "markdown",
   "metadata": {},
   "source": [
    "- Multiple Inputs that we want the user to select BEFORE we update our dashboard. \n",
    "- We will use the State class from dash to accomplish this"
   ]
  },
  {
   "cell_type": "code",
   "execution_count": null,
   "metadata": {
    "ExecuteTime": {
     "end_time": "2021-07-06T14:42:26.040596Z",
     "start_time": "2021-07-06T14:42:25.639318Z"
    },
    "scrolled": false
   },
   "outputs": [],
   "source": [
    "import datetime as dt\n",
    "from datetime import date\n",
    "from pandas_datareader import data as pdr\n",
    "import yfinance as yfin\n",
    "yfin.pdr_override()\n",
    "\n",
    "import dash\n",
    "import dash_core_components as dcc\n",
    "import dash_html_components as html\n",
    "from dash.dependencies import Input, Output,State\n",
    "\n",
    "import numpy as np\n",
    "np.random.seed(321)\n",
    "\n",
    "import pandas as pd\n",
    "import matplotlib.pyplot as plt\n",
    "import seaborn as sns\n",
    "plt.rcParams['figure.figsize'] = (12,4)\n",
    "\n",
    "import plotly.express as px\n",
    "import plotly.io as pio\n",
    "pio.templates.default = \"plotly_dark\"\n",
    "\n",
    "from jupyter_dash import JupyterDash\n",
    "\n",
    "## Saving today for use in functions and app\n",
    "today = dt.date.today().strftime(\"%Y-%m-%d\")\n",
    "def get_data(start_date='2012-02-01',end_date=today,\n",
    "             symbols = ['FB','AAPL','GOOGL','AMZN','MSFT','TSLA']):\n",
    "    \"\"\" Gets the historical stock dataa for the provided symbols for the \n",
    "    time period requested \n",
    "    \"\"\"\n",
    "    data = {}\n",
    "    for stock in symbols:\n",
    "        time.sleep(0.1)\n",
    "        try:\n",
    "            data[stock] = pdr.get_data_yahoo(stock,start_date,end_date)['Adj Close']\n",
    "        except:\n",
    "            print('Error with stock: '+stock)\n",
    "    df = pd.DataFrame(data)#.reset_index()\n",
    "    return df\n",
    "\n",
    "\n",
    "def plot_stocks_df(df=None,stocks=['FB','AAPL']):\n",
    "    if df is None:\n",
    "        df = get_data(stocks)#.reset_index()\n",
    "            \n",
    "    if df.index.name==\"Date\":\n",
    "        df.reset_index(inplace=True)\n",
    "        \n",
    "    stocks_exist = [s for s in stocks if s in df.columns]\n",
    "    pfig = px.scatter(df,x='Date',y=stocks_exist)\n",
    "    return pfig\n",
    "\n",
    "app = JupyterDash('Example', #external_stylesheets=external_stylesheets,\n",
    "                  serve_locally=False)\n",
    "defaults = ['MSFT','AMZN']\n",
    "# df = get_data(date(2012, 1, 1))\n",
    "\n",
    "app.layout = html.Div(children = [\n",
    "    html.H1('Our AMAZING Dashboard'),\n",
    "    \n",
    "    html.Div(children=[\n",
    "        html.Div(style={\"border\":'1px solid black','padding':'3px'},id='menu',children=[\n",
    "            html.H3('Enter stock symbols, separated by a comma.\\nPress Enter to update.'),\n",
    "\n",
    "            dcc.Input(id='choose_stocks',value='MSFT,AMZN',\n",
    "                      placeholder='MSFT,AAPL',#,\n",
    "                         style={'width': '90%', 'height': 50}),           \n",
    "\n",
    "            dcc.DatePickerRange( id='my-date-picker-range',\n",
    "                                start_date=date(2012,1,1),\n",
    "                                min_date_allowed=date(2010, 1, 1),\n",
    "                                max_date_allowed=today,#date.today(),#date(2021),\n",
    "                                end_date=today,style={'width':'50%'}),#date.today()), #date(2017, 8, 25)),\n",
    "            html.Button('Submit',id='submit',style={'size':'40 px'})\n",
    "    \n",
    "        ]),\n",
    "        \n",
    "        dcc.Graph(id='line_plot')\n",
    "\n",
    "    ])\n",
    "])\n",
    "\n",
    "@app.callback(Output('line_plot','figure'),\n",
    "              [Input('submit','n_clicks')],\n",
    "              [State('choose_stocks','value'),\n",
    "               State('my-date-picker-range', 'start_date'),\n",
    "               State('my-date-picker-range', 'end_date')])\n",
    "def update_stocks(n_clicks, stocks,start_date,end_date):\n",
    "    stocks = stocks.split(',')\n",
    "    plot_df = get_data(start_date,end_date,symbols=stocks)\n",
    "    return plot_stocks_df(df=plot_df,stocks=stocks)#,start_date,end_date)\n",
    "    \n",
    "app.run_server(mode='inline',host='127.0.0.1')"
   ]
  },
  {
   "cell_type": "markdown",
   "metadata": {},
   "source": [
    "# Streamlit"
   ]
  },
  {
   "cell_type": "markdown",
   "metadata": {},
   "source": [
    "- Streamlit is a new, easy-to-use package for developing apps.\n",
    "    - https://www.streamlit.io/\n",
    "    \n",
    "- It is easier to use than Dash, but not as customizable. \n",
    "\n",
    "- Streamlit Docs: \n",
    "    - [Getting Started Tutorial](https://docs.streamlit.io/en/stable/getting_started.html)\n",
    "        - [API reference](https://docs.streamlit.io/en/stable/api.html)\n",
    "\n",
    "- Blog Posts:\n",
    "    - [Intermediate Streamlit](https://towardsdatascience.com/intermediate-streamlit-d5a1381daa65)"
   ]
  },
  {
   "cell_type": "markdown",
   "metadata": {},
   "source": [
    "> - Open `streamlit_app.py` and compare!\n",
    "> - To run, install streamlit and then run the following command in your terminal \n",
    "`streamlit run streamlit_app.py`"
   ]
  },
  {
   "cell_type": "code",
   "execution_count": null,
   "metadata": {
    "ExecuteTime": {
     "end_time": "2021-07-06T14:46:00.211427Z",
     "start_time": "2021-07-06T14:46:00.206736Z"
    }
   },
   "outputs": [],
   "source": [
    "from IPython.display import display,Markdown\n",
    "with open('streamlit_app.py') as file:\n",
    "    display(Markdown(\"```python\\n\"+file.read()+'\\n```'))"
   ]
  },
  {
   "cell_type": "markdown",
   "metadata": {},
   "source": [
    "# Appendix / If There's Time "
   ]
  },
  {
   "cell_type": "markdown",
   "metadata": {},
   "source": [
    "## Deploying Your App For Free with Heroku\n"
   ]
  },
  {
   "cell_type": "markdown",
   "metadata": {},
   "source": [
    "1. Go through official Heroku Python Tutorial:\n",
    "    - https://devcenter.heroku.com/articles/getting-started-with-python\n",
    "    \n",
    "    \n",
    "    \n",
    "2. Use this template as a starting point for your app.\n",
    "    - ~~https://github.com/plotly/dash-heroku-template~~\n",
    "    - My Modified Template:\n",
    "        - https://github.com/jirvingphd/dash-heroku-template.git\n",
    "    \n",
    "    \n",
    "3. Go through official Dash tutorial to get your app.py started with their example Layout app\n",
    "    - https://dash.plotly.com/\n",
    "    \n",
    "    \n",
    "4. Checkout the Official Dash/Herokuapp Tutorial for how to make your repo into an app \n",
    "    - https://dash.plotly.com/deployment\n",
    "  "
   ]
  },
  {
   "cell_type": "code",
   "execution_count": null,
   "metadata": {},
   "outputs": [],
   "source": []
  }
 ],
 "metadata": {
  "kernelspec": {
   "display_name": "learn-env",
   "language": "python",
   "name": "learn-env"
  },
  "language_info": {
   "codemirror_mode": {
    "name": "ipython",
    "version": 3
   },
   "file_extension": ".py",
   "mimetype": "text/x-python",
   "name": "python",
   "nbconvert_exporter": "python",
   "pygments_lexer": "ipython3",
   "version": "3.6.9"
  },
  "toc": {
   "base_numbering": 1,
   "nav_menu": {},
   "number_sections": true,
   "sideBar": true,
   "skip_h1_title": false,
   "title_cell": "Table of Contents",
   "title_sidebar": "Contents",
   "toc_cell": false,
   "toc_position": {
    "height": "calc(100% - 180px)",
    "left": "10px",
    "top": "150px",
    "width": "256px"
   },
   "toc_section_display": true,
   "toc_window_display": true
  },
  "widgets": {
   "application/vnd.jupyter.widget-state+json": {
    "state": {},
    "version_major": 2,
    "version_minor": 0
   }
  }
 },
 "nbformat": 4,
 "nbformat_minor": 2
}
