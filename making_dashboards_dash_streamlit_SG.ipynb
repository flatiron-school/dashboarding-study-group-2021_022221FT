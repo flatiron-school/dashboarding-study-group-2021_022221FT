{
 "cells": [
  {
   "cell_type": "markdown",
   "metadata": {},
   "source": [
    "# Dashboarding with Python: Plotly/Dash & Streamlit"
   ]
  },
  {
   "cell_type": "markdown",
   "metadata": {},
   "source": [
    "- onl01-dtsc-ft-022221\n",
    "- Updated 07/06/21"
   ]
  },
  {
   "cell_type": "markdown",
   "metadata": {
    "toc": true
   },
   "source": [
    "<h1>Table of Contents<span class=\"tocSkip\"></span></h1>\n",
    "<div class=\"toc\"><ul class=\"toc-item\"><li><span><a href=\"#Dashboarding-with-Python:-Plotly/Dash-&amp;-Streamlit\" data-toc-modified-id=\"Dashboarding-with-Python:-Plotly/Dash-&amp;-Streamlit-1\">Dashboarding with Python: Plotly/Dash &amp; Streamlit</a></span><ul class=\"toc-item\"><li><span><a href=\"#Learning-Objectives\" data-toc-modified-id=\"Learning-Objectives-1.1\">Learning Objectives</a></span><ul class=\"toc-item\"><li><span><a href=\"#Dashboarding-Udemy-Courses\" data-toc-modified-id=\"Dashboarding-Udemy-Courses-1.1.1\">Dashboarding Udemy Courses</a></span></li></ul></li></ul></li><li><span><a href=\"#Part-1:-Making-Dashboards-with-dash\" data-toc-modified-id=\"Part-1:-Making-Dashboards-with-dash-2\"><strong>Part 1: Making Dashboards with <code>dash</code></strong></a></span><ul class=\"toc-item\"><li><span><a href=\"#Installing-Dash-/plotly\" data-toc-modified-id=\"Installing-Dash-/plotly-2.1\">Installing <code>Dash</code> /<code>plotly</code></a></span></li><li><span><a href=\"#📱Our-First-Tutorial-Dash-App\" data-toc-modified-id=\"📱Our-First-Tutorial-Dash-App-2.2\">📱Our First Tutorial Dash App</a></span><ul class=\"toc-item\"><li><span><a href=\"#App-Layout\" data-toc-modified-id=\"App-Layout-2.2.1\">App Layout</a></span></li><li><span><a href=\"#Add-some-simple-styling-to-our-app\" data-toc-modified-id=\"Add-some-simple-styling-to-our-app-2.2.2\">Add some simple styling to our app</a></span></li></ul></li><li><span><a href=\"#Using-JupyterDash-to-Develop-a-Dash-App-in-Your-Notebook\" data-toc-modified-id=\"Using-JupyterDash-to-Develop-a-Dash-App-in-Your-Notebook-2.3\">Using <code>JupyterDash</code> to Develop a Dash App in Your Notebook</a></span><ul class=\"toc-item\"><li><span><a href=\"#Update-our-app-for-jupyter_dash\" data-toc-modified-id=\"Update-our-app-for-jupyter_dash-2.3.1\">Update our app for <code>jupyter_dash</code></a></span></li><li><span><a href=\"#📱Our-Tutorial-App-with-JupyterDash\" data-toc-modified-id=\"📱Our-Tutorial-App-with-JupyterDash-2.3.2\">📱Our Tutorial App with JupyterDash</a></span></li></ul></li></ul></li><li><span><a href=\"#Part-2:-Getting-our-Data-and-Plotting-with-Plotly\" data-toc-modified-id=\"Part-2:-Getting-our-Data-and-Plotting-with-Plotly-3\"><strong>Part 2: Getting our Data and Plotting with Plotly</strong></a></span><ul class=\"toc-item\"><li><span><a href=\"#Getting-the-Data-with-pandas_datareader\" data-toc-modified-id=\"Getting-the-Data-with-pandas_datareader-3.1\">Getting the Data with <code>pandas_datareader</code></a></span><ul class=\"toc-item\"><li><span><a href=\"#Importing-and-Using-Plotly,-Pandas-DataReader\" data-toc-modified-id=\"Importing-and-Using-Plotly,-Pandas-DataReader-3.1.1\">Importing and Using Plotly, Pandas DataReader</a></span></li><li><span><a href=\"#Pandas-DataReader\" data-toc-modified-id=\"Pandas-DataReader-3.1.2\">Pandas DataReader</a></span></li></ul></li><li><span><a href=\"#📊Plotting-with-Plotly:--PlotlyExpress\" data-toc-modified-id=\"📊Plotting-with-Plotly:--PlotlyExpress-3.2\">📊Plotting with Plotly:  <code>PlotlyExpress</code></a></span><ul class=\"toc-item\"><li><span><a href=\"#Extending-to-Multiple-Stocks\" data-toc-modified-id=\"Extending-to-Multiple-Stocks-3.2.1\">Extending to Multiple Stocks</a></span></li><li><span><a href=\"#Functionizing-Loading-Data-+-Plotting\" data-toc-modified-id=\"Functionizing-Loading-Data-+-Plotting-3.2.2\">Functionizing Loading Data + Plotting</a></span></li><li><span><a href=\"#Getting-a-Larger-Body-of-Stock-Data\" data-toc-modified-id=\"Getting-a-Larger-Body-of-Stock-Data-3.2.3\">Getting a Larger Body of Stock Data</a></span></li></ul></li></ul></li><li><span><a href=\"#📱Part-3:-Making-Our-Stock-Data-Dash-App\" data-toc-modified-id=\"📱Part-3:-Making-Our-Stock-Data-Dash-App-4\">📱<strong>Part 3: Making Our Stock Data <code>Dash</code> App</strong></a></span><ul class=\"toc-item\"><li><span><a href=\"#Constructing-Our-First-App\" data-toc-modified-id=\"Constructing-Our-First-App-4.1\">Constructing Our First App</a></span></li><li><span><a href=\"#Our-App-with-a-Dropdown-menu\" data-toc-modified-id=\"Our-App-with-a-Dropdown-menu-4.2\">Our App with a Dropdown menu</a></span></li></ul></li><li><span><a href=\"#Part-3:-Adding-Interactivity-with-Callbacks\" data-toc-modified-id=\"Part-3:-Adding-Interactivity-with-Callbacks-5\"><strong>Part 3: Adding Interactivity with Callbacks</strong></a></span><ul class=\"toc-item\"><li><span><a href=\"#Basic-Callbacks\" data-toc-modified-id=\"Basic-Callbacks-5.1\">Basic Callbacks</a></span><ul class=\"toc-item\"><li><span><a href=\"#To-write-a-callback-you-will-need:\" data-toc-modified-id=\"To-write-a-callback-you-will-need:-5.1.1\">To write a callback you will need:</a></span></li></ul></li><li><span><a href=\"#📱-Our-App-with-a-Functional-Dropdown-Menu\" data-toc-modified-id=\"📱-Our-App-with-a-Functional-Dropdown-Menu-5.2\">📱 Our App with a Functional Dropdown Menu</a></span></li><li><span><a href=\"#More-Advanced-Callbacks\" data-toc-modified-id=\"More-Advanced-Callbacks-5.3\">More Advanced Callbacks</a></span><ul class=\"toc-item\"><li><span><a href=\"#📱Our-App-with-Date-Selection-&amp;-User-Provided-Stock-Symbols\" data-toc-modified-id=\"📱Our-App-with-Date-Selection-&amp;-User-Provided-Stock-Symbols-5.3.1\">📱Our App with Date Selection &amp; User-Provided Stock Symbols</a></span></li><li><span><a href=\"#Multiple-Inputs-with-State\" data-toc-modified-id=\"Multiple-Inputs-with-State-5.3.2\">Multiple Inputs with State</a></span></li></ul></li><li><span><a href=\"#📱The-Final-Dash-App\" data-toc-modified-id=\"📱The-Final-Dash-App-5.4\">📱The Final Dash App</a></span></li></ul></li><li><span><a href=\"#Part-4:-Making-the-same-app-in-Streamlit\" data-toc-modified-id=\"Part-4:-Making-the-same-app-in-Streamlit-6\"><strong>Part 4: Making the same app in Streamlit</strong></a></span></li><li><span><a href=\"#APPENDIX\" data-toc-modified-id=\"APPENDIX-7\">APPENDIX</a></span><ul class=\"toc-item\"><li><span><a href=\"#How-to-Deploy-Your-Dash-App-with-Herokuapp\" data-toc-modified-id=\"How-to-Deploy-Your-Dash-App-with-Herokuapp-7.1\">How to Deploy Your Dash App with <code>Herokuapp</code></a></span><ul class=\"toc-item\"><li><span><a href=\"#📺-Office-Hours-Recording-on-Heroku\" data-toc-modified-id=\"📺-Office-Hours-Recording-on-Heroku-7.1.1\">📺 Office Hours Recording on Heroku</a></span></li></ul></li><li><span><a href=\"#How-to-Deploy-your-Streamlit-App\" data-toc-modified-id=\"How-to-Deploy-your-Streamlit-App-7.2\">How to Deploy your Streamlit App</a></span></li></ul></li></ul></div>"
   ]
  },
  {
   "cell_type": "markdown",
   "metadata": {},
   "source": [
    "## Learning Objectives"
   ]
  },
  {
   "cell_type": "markdown",
   "metadata": {},
   "source": [
    "- Create and run the tutorial dash app in a separate py file.\n",
    "    - Discuss the structure of a dash app. \n",
    "    \n",
    "- Introduce how to use `jupyter-dash` to develop a dash app from inside a Jupyter Notebook.\n",
    "\n",
    "- Become familiar with the fundamentals of making a Dash app.\n",
    "    - Learn The Required Imports and what they contain\n",
    "        - Dash HTML\n",
    "        - Dash Core Components\n",
    "    - Learn how to set up callbacks\n",
    "        - Walk Through Basic Callbacks and Advanced Callbacks (with State)\n",
    "\n",
    "\n",
    "- Walk-through using an API (Yahoo Finance stock prices via Pandas DataReader) to update dashboard data based on user input\n",
    "\n",
    "\n",
    "- Compare our Dash app to using the new package Streamlit."
   ]
  },
  {
   "cell_type": "markdown",
   "metadata": {},
   "source": [
    "### Dashboarding Udemy Courses"
   ]
  },
  {
   "cell_type": "markdown",
   "metadata": {},
   "source": [
    "- Streamlit: https://www.udemy.com/course/learn-streamlit-python/ \n",
    "    - Brand new, can't fully vouch for it yet (but did buy it).\n",
    "- Plotly/Dash: https://www.udemy.com/course/interactive-python-dashboards-with-plotly-and-dash/\n",
    "    - Great overall Dash course, but was made before plotly-express, so all plots are made from scratch with base plotly. \n",
    "    - Includes Great Resources:\n",
    "        - Repo: https://github.com/Pierian-Data/Plotly-Dashboards-with-Dash\n",
    "        - [Google Doc Reference Guide](https://docs.google.com/document/d/1DjWL2DxLiRaBrlD3ELyQlCBRu7UQuuWfgjv9LncNp_M/edit)"
   ]
  },
  {
   "cell_type": "markdown",
   "metadata": {},
   "source": [
    "# **Part 1: Making Dashboards with `dash`**"
   ]
  },
  {
   "cell_type": "markdown",
   "metadata": {},
   "source": [
    "## Installing `Dash` /`plotly`"
   ]
  },
  {
   "cell_type": "code",
   "execution_count": null,
   "metadata": {
    "ExecuteTime": {
     "end_time": "2021-07-06T21:55:36.735757Z",
     "start_time": "2021-07-06T21:55:36.733410Z"
    }
   },
   "outputs": [],
   "source": [
    "## Run these installation commands (do via terminal without \"!\" if you have issues)\n",
    "# !pip install plotly\n",
    "# !pip install dash\n",
    "# !pip install jupyter-dash"
   ]
  },
  {
   "cell_type": "code",
   "execution_count": null,
   "metadata": {
    "ExecuteTime": {
     "end_time": "2021-07-06T21:55:37.578457Z",
     "start_time": "2021-07-06T21:55:36.738210Z"
    }
   },
   "outputs": [],
   "source": [
    "import dash\n",
    "import plotly # only importing full package to show version\n",
    "import jupyter_dash # only importing full package to show version\n",
    "from jupyter_dash import JupyterDash\n",
    "\n",
    "print('Dash Version: ',dash.__version__)\n",
    "print(\"Plotly Version: \",plotly.__version__)\n",
    "print(\"jupyter_dash Version: \",jupyter_dash.__version__)"
   ]
  },
  {
   "cell_type": "markdown",
   "metadata": {},
   "source": [
    "- Check Dash's documentation for the installation code. \n",
    "    - https://dash.plotly.com/installation\n",
    "- Primary Package: `pip install dash`\n",
    "- Add-On to Develop Apps in JupyterNotebook: `pip install jupyter-dash`\n",
    "\n",
    "\n",
    "        \n",
    "> NOTE: You may need to install dash in your base Conda Environment if you get an error about no package named dash. To do so, just deactivate learn-env and then run the pip install command again.\n",
    "\n",
    "- To Switch to Your Base Environment in your terminal:\n",
    "    - On Mac:\n",
    "    ```bash\n",
    "    ## Deactivate Learn-Env\n",
    "    conda deactivate\n",
    "    ## Install Dash\n",
    "    pip install dash\n",
    "    ## Then reactivate learn-env\n",
    "    conda activate learn-env\n",
    "    ```\n",
    "    - On Windows:\n",
    "    ```bash\n",
    "    ## Deactivate Learn-Env\n",
    "    source deactivate\n",
    "    ## Install Dash\n",
    "    pip install dash\n",
    "    ## Then reactivate learn-env\n",
    "    source activate learn-env\n",
    "    ```"
   ]
  },
  {
   "cell_type": "markdown",
   "metadata": {},
   "source": [
    "## 📱Our First Tutorial Dash App"
   ]
  },
  {
   "cell_type": "markdown",
   "metadata": {},
   "source": [
    "- [ ] Make a new `tutorial_app.py` file with VS Code (or your fav code editor).\n",
    "- [ ] Open the [Dash Tutorial-Part 2: App Layout](https://dash.plotly.com/layout) \n",
    "    - [ ] Copy the entire app and paste into our `tutorial_app.py` file. \n",
    "    - [ ] Using our terminal (or VSCode's integrated terminal), run the tutorial app: `python tutorial_app.py`\n"
   ]
  },
  {
   "cell_type": "markdown",
   "metadata": {},
   "source": [
    "### App Layout\n",
    "- [Dash Tutorial's app layout](https://dash.plotly.com/layout) \n",
    "- Let's first use it in an external .py file `for_class/tutorial_app.py`\n",
    "- Open a new terminal and navigate to the folder with the tutorial_app.py file. \n",
    "- Then run: `python tutorial_app.py`\n",
    "- Open the displayed URL (should start with 127...) to see the app!"
   ]
  },
  {
   "cell_type": "markdown",
   "metadata": {},
   "source": [
    "> Note: if you get error messages about sockets and gaia, add the following argument to your `app.run_server()` at the bottom of the file: `host = '127.0.0.1'`"
   ]
  },
  {
   "cell_type": "markdown",
   "metadata": {},
   "source": [
    "### Add some simple styling to our app"
   ]
  },
  {
   "cell_type": "markdown",
   "metadata": {},
   "source": [
    "- Any `.css` files stored in an `assets` sub-folder will automatically be found and applied.\n",
    "\n",
    "\n",
    "\n",
    "- [ ] Add an `assets` folder (if it doesn't already exust). \n",
    "    - Add a `.css` file with any name you'd like. \n",
    "    \n",
    "    \n",
    "- [ ] Make some simple changes:\n",
    "    - add a black background\n",
    "    - change the font to black\n",
    "    - change the font to serif"
   ]
  },
  {
   "cell_type": "markdown",
   "metadata": {},
   "source": [
    "## Using `JupyterDash` to Develop a Dash App in Your Notebook"
   ]
  },
  {
   "cell_type": "markdown",
   "metadata": {},
   "source": [
    "- To develop your apps inside your notebook instead of inside a .py file, use `JupyterDash`!\n",
    "\n",
    "- [`JupyterDash`is a package](https://github.com/plotly/jupyter-dash) that lets us run and display Dash apps inside our Jupyter notebook.\n",
    "- To Install:\n",
    "`pip install jupyter-dash`"
   ]
  },
  {
   "cell_type": "markdown",
   "metadata": {},
   "source": [
    "###  Update our app for `jupyter_dash`\n",
    "\n",
    ">- There are 2 major changes we have to make to our `tutorial_app.py`:"
   ]
  },
  {
   "cell_type": "markdown",
   "metadata": {},
   "source": [
    "1. First, we have to change how we initialize our app:\n",
    "\n",
    "```python \n",
    "import dash\n",
    "app = dash.Dash(__name__, external_stylesheets=external_stylesheets)\n",
    "```\n",
    "becomes...\n",
    "```python\n",
    "from jupyter_dash import JupyterDash\n",
    "app = JupyterDash('our app')#,external_stylesheets=external_stylesheets)\n",
    "```\n",
    "- Unfortunately CSS styling is not **fully** supported in JupyterDash\n",
    "\n",
    "2. Second, we change how we run our app.\n",
    "- At the bottom of the file is a `if __name__ == '__main__'` block of code. \n",
    "    - Remove the `if __name__ == '__main__':` part \n",
    "    - add `mode=\"inline\"` to display inside the notebook. \n",
    "\n",
    "```python\n",
    "if __name__ == '__main__':\n",
    "    app.run_server(debug=True)\n",
    "```\n",
    "becomes: \n",
    "```python \n",
    "app.run_server(mode='inline',host = '127.0.0.1')\n",
    "```\n",
    "> Note the `host = '127.0.0.1'` arg was added as a workaround for an error regarding gaia sockets. "
   ]
  },
  {
   "cell_type": "markdown",
   "metadata": {},
   "source": [
    "### 📱Our Tutorial App with JupyterDash"
   ]
  },
  {
   "cell_type": "code",
   "execution_count": null,
   "metadata": {
    "ExecuteTime": {
     "end_time": "2021-07-06T21:55:39.890553Z",
     "start_time": "2021-07-06T21:55:37.580890Z"
    }
   },
   "outputs": [],
   "source": []
  },
  {
   "cell_type": "markdown",
   "metadata": {},
   "source": [
    "# **Part 2: Getting our Data and Plotting with Plotly**"
   ]
  },
  {
   "cell_type": "markdown",
   "metadata": {},
   "source": [
    "## Getting the Data with `pandas_datareader`"
   ]
  },
  {
   "cell_type": "markdown",
   "metadata": {},
   "source": [
    "### Importing and Using Plotly, Pandas DataReader"
   ]
  },
  {
   "cell_type": "code",
   "execution_count": null,
   "metadata": {
    "ExecuteTime": {
     "end_time": "2021-07-06T21:55:40.793301Z",
     "start_time": "2021-07-06T21:55:39.892726Z"
    }
   },
   "outputs": [],
   "source": [
    "## General Imports\n",
    "import numpy as np\n",
    "np.random.seed(321)\n",
    "\n",
    "import pandas as pd\n",
    "import matplotlib.pyplot as plt\n",
    "import seaborn as sns\n",
    "plt.rcParams['figure.figsize'] = (12,4)"
   ]
  },
  {
   "cell_type": "markdown",
   "metadata": {},
   "source": [
    "### Pandas DataReader"
   ]
  },
  {
   "cell_type": "markdown",
   "metadata": {},
   "source": [
    ">- As of very recent PandasDataReader's Yahoo functionality was broken. I took he following steps to fix it:\n",
    "    1. Installing and importing `yfinance` as running `yfin.pdr_override()`\n",
    "    2. changing my import/function from:\n",
    "    ```python\n",
    "    import pandas_datareader as pdr\n",
    "    df = pdr.DataReader(stock,'yahoo',start=\"2016-01-01\", end=today)\n",
    "    ```\n",
    "    to: \n",
    "    ```python\n",
    "    from pandas_datareader import data as pdr\n",
    "    import yfinance as yfin\n",
    "    yfin.pdr_override()\n",
    "    df = pdr.get_data_yahoo(\"AMZN\", start=\"2016-01-01\", end=today)\n",
    "    ```\n"
   ]
  },
  {
   "cell_type": "code",
   "execution_count": null,
   "metadata": {
    "ExecuteTime": {
     "end_time": "2021-07-06T21:55:40.832227Z",
     "start_time": "2021-07-06T21:55:40.795346Z"
    }
   },
   "outputs": [],
   "source": [
    "# !pip install pandas_datareader\n",
    "# !pip install yfinance\n",
    "\n",
    "import pandas as pd\n",
    "from pandas_datareader import data as pdr\n",
    "import yfinance as yfin\n",
    "yfin.pdr_override()"
   ]
  },
  {
   "cell_type": "code",
   "execution_count": null,
   "metadata": {
    "ExecuteTime": {
     "end_time": "2021-07-06T22:26:42.220531Z",
     "start_time": "2021-07-06T22:26:42.213223Z"
    }
   },
   "outputs": [],
   "source": [
    "## get data for AMZN from 2016-today.\n",
    "import datetime as dt\n"
   ]
  },
  {
   "cell_type": "code",
   "execution_count": null,
   "metadata": {
    "ExecuteTime": {
     "end_time": "2021-07-06T22:26:45.973454Z",
     "start_time": "2021-07-06T22:26:45.971066Z"
    }
   },
   "outputs": [],
   "source": [
    "## Plot adj close \n"
   ]
  },
  {
   "cell_type": "markdown",
   "metadata": {},
   "source": [
    "##  📊Plotting with Plotly:  `PlotlyExpress`"
   ]
  },
  {
   "cell_type": "markdown",
   "metadata": {},
   "source": [
    "- Plotly Express Overview:\n",
    "    - https://plotly.com/python/plotly-express/\n",
    "    \n",
    "- Plotly Express is similar to Seaborn in that it produces complex plots from a dataframe in one line of code. "
   ]
  },
  {
   "cell_type": "code",
   "execution_count": null,
   "metadata": {
    "ExecuteTime": {
     "end_time": "2021-07-06T21:55:41.424174Z",
     "start_time": "2021-07-06T21:55:41.420374Z"
    }
   },
   "outputs": [],
   "source": [
    "## Typical Plotly Imports\n",
    "import plotly.express as px\n",
    "import plotly.graph_objects as go\n",
    "import plotly.io as pio\n",
    "\n",
    "## list of available templates\n",
    "pio.templates"
   ]
  },
  {
   "cell_type": "code",
   "execution_count": null,
   "metadata": {
    "ExecuteTime": {
     "end_time": "2021-07-06T21:55:41.456833Z",
     "start_time": "2021-07-06T21:55:41.425904Z"
    }
   },
   "outputs": [],
   "source": [
    "## Setting Plotly Theme\n",
    "pio.templates.default = \"plotly_dark\""
   ]
  },
  {
   "cell_type": "code",
   "execution_count": null,
   "metadata": {
    "ExecuteTime": {
     "end_time": "2021-07-06T22:26:54.871734Z",
     "start_time": "2021-07-06T22:26:54.869686Z"
    }
   },
   "outputs": [],
   "source": [
    "## Plot a scatter plot of AMZN's adjusted close with plotly\n"
   ]
  },
  {
   "cell_type": "markdown",
   "metadata": {},
   "source": [
    "### Extending to Multiple Stocks"
   ]
  },
  {
   "cell_type": "markdown",
   "metadata": {},
   "source": [
    "- Grab a list of stocks' Adj Close to plot"
   ]
  },
  {
   "cell_type": "code",
   "execution_count": null,
   "metadata": {
    "ExecuteTime": {
     "end_time": "2021-07-06T22:27:30.772654Z",
     "start_time": "2021-07-06T22:27:30.770024Z"
    }
   },
   "outputs": [],
   "source": [
    "## List of symbols to grab\n",
    "symbols = ['FB','AAPL','GOOGL','AMZN','MSFT']\n",
    "import datetime as dt\n",
    "today = dt.date.today()\n",
    "\n",
    "## save each smymbol's Adj Close in a dictionary\n",
    "\n",
    "## save as a df\n"
   ]
  },
  {
   "cell_type": "code",
   "execution_count": null,
   "metadata": {
    "ExecuteTime": {
     "end_time": "2021-07-06T22:33:11.941809Z",
     "start_time": "2021-07-06T22:33:11.939917Z"
    }
   },
   "outputs": [],
   "source": [
    "## Plot full df with Plotly Express\n"
   ]
  },
  {
   "cell_type": "markdown",
   "metadata": {
    "ExecuteTime": {
     "end_time": "2020-12-30T22:36:27.399417Z",
     "start_time": "2020-12-30T22:36:27.397230Z"
    }
   },
   "source": [
    "### Functionizing Loading Data + Plotting"
   ]
  },
  {
   "cell_type": "code",
   "execution_count": null,
   "metadata": {
    "ExecuteTime": {
     "end_time": "2021-07-06T21:55:43.154789Z",
     "start_time": "2021-07-06T21:55:43.151370Z"
    }
   },
   "outputs": [],
   "source": [
    "import datetime as dt\n",
    "import time\n",
    "\n",
    "today = dt.date.today()\n",
    "def get_data(start_date='2012-02-01',end_date=today,\n",
    "             symbols = ['FB','AAPL','GOOGL','AMZN','MSFT','TSLA']):\n",
    "    \"\"\" Gets the historical stock dataa for the provided symbols for the \n",
    "    time period requested \n",
    "    \"\"\"\n",
    "    data = {}\n",
    "    for stock in symbols:\n",
    "        time.sleep(0.1)\n",
    "        try:\n",
    "            data[stock] = pdr.get_data_yahoo(stock,start_date,end_date)['Adj Close']\n",
    "        except:\n",
    "            print('Error with stock: '+stock)\n",
    "    df = pd.DataFrame(data)#.reset_index()\n",
    "    return df\n",
    "\n",
    "\n",
    "def plot_stocks(df,stocks=None):\n",
    "    return px.scatter(df,y=stocks,title=\"Adj Close Prices\")\n",
    "    "
   ]
  },
  {
   "cell_type": "code",
   "execution_count": null,
   "metadata": {
    "ExecuteTime": {
     "end_time": "2021-07-06T22:37:42.976128Z",
     "start_time": "2021-07-06T22:37:42.973913Z"
    }
   },
   "outputs": [],
   "source": [
    "## use function to get data from 2012 to today\n"
   ]
  },
  {
   "cell_type": "code",
   "execution_count": null,
   "metadata": {
    "ExecuteTime": {
     "end_time": "2021-07-06T22:37:46.129261Z",
     "start_time": "2021-07-06T22:37:46.127155Z"
    }
   },
   "outputs": [],
   "source": [
    "## plot new data with func    \n"
   ]
  },
  {
   "cell_type": "markdown",
   "metadata": {},
   "source": [
    "### Getting a Larger Body of Stock Data"
   ]
  },
  {
   "cell_type": "code",
   "execution_count": null,
   "metadata": {
    "ExecuteTime": {
     "end_time": "2021-07-06T21:55:46.444599Z",
     "start_time": "2021-07-06T21:55:45.546113Z"
    }
   },
   "outputs": [],
   "source": [
    "## getting S&P500 symbols\n",
    "url= 'https://en.wikipedia.org/wiki/List_of_S%26P_500_companies'\n",
    "result = pd.read_html(url)\n",
    "\n",
    "print(type(result))\n",
    "print(len(result))\n",
    "result[0]"
   ]
  },
  {
   "cell_type": "code",
   "execution_count": null,
   "metadata": {
    "ExecuteTime": {
     "end_time": "2021-07-06T21:55:46.475072Z",
     "start_time": "2021-07-06T21:55:46.464837Z"
    }
   },
   "outputs": [],
   "source": [
    "## Gettting S&P500\n",
    "sp500 = result[0].copy()\n",
    "sp500.head()"
   ]
  },
  {
   "cell_type": "code",
   "execution_count": null,
   "metadata": {
    "ExecuteTime": {
     "end_time": "2021-07-06T21:55:46.481646Z",
     "start_time": "2021-07-06T21:55:46.476760Z"
    }
   },
   "outputs": [],
   "source": [
    "## Let's grab just one sector \n",
    "sp500['GICS Sector'].value_counts()"
   ]
  },
  {
   "cell_type": "code",
   "execution_count": null,
   "metadata": {
    "ExecuteTime": {
     "end_time": "2021-07-06T21:55:46.488313Z",
     "start_time": "2021-07-06T21:55:46.483303Z"
    }
   },
   "outputs": [],
   "source": [
    "## Pick a sector to use\n",
    "sector='Health Care'#'Communication Services'\n",
    "stocks_to_get = sp500.loc[ sp500['GICS Sector'] == sector,\n",
    "                          'Symbol'].to_list()\n",
    "stocks_to_get[:5]"
   ]
  },
  {
   "cell_type": "code",
   "execution_count": null,
   "metadata": {
    "ExecuteTime": {
     "end_time": "2021-07-06T21:55:46.493700Z",
     "start_time": "2021-07-06T21:55:46.490039Z"
    }
   },
   "outputs": [],
   "source": [
    "len(stocks_to_get)"
   ]
  },
  {
   "cell_type": "code",
   "execution_count": null,
   "metadata": {
    "ExecuteTime": {
     "end_time": "2021-07-06T21:56:09.817528Z",
     "start_time": "2021-07-06T21:55:46.495811Z"
    }
   },
   "outputs": [],
   "source": [
    "## Getting the data FIRST\n",
    "df = get_data(symbols=stocks_to_get)\n",
    "df"
   ]
  },
  {
   "cell_type": "code",
   "execution_count": null,
   "metadata": {
    "ExecuteTime": {
     "end_time": "2021-07-06T21:56:14.168628Z",
     "start_time": "2021-07-06T21:56:09.819497Z"
    },
    "scrolled": true
   },
   "outputs": [],
   "source": [
    "plot_stocks(df)"
   ]
  },
  {
   "cell_type": "markdown",
   "metadata": {},
   "source": [
    "# 📱**Part 3: Making Our Stock Data `Dash` App**"
   ]
  },
  {
   "cell_type": "markdown",
   "metadata": {},
   "source": [
    "- For our first app we will get the data for a larger number of stock symbols\n",
    "- We will then provide a Dropdown box for the user to select which stocks they would like to see."
   ]
  },
  {
   "cell_type": "markdown",
   "metadata": {},
   "source": [
    "## Constructing Our First App"
   ]
  },
  {
   "cell_type": "markdown",
   "metadata": {},
   "source": [
    "- `dash_core_components` (dcc) contains widgets.\n",
    "    - We will use `dcc.Dropdown` to select stocks to display\n",
    "- `dash_html_components` (html) contains HTML tags as objects. (Div, H1, etc.)\n",
    "    - We will use `html` for the layout of our app."
   ]
  },
  {
   "cell_type": "code",
   "execution_count": null,
   "metadata": {
    "ExecuteTime": {
     "end_time": "2021-07-06T21:56:16.369759Z",
     "start_time": "2021-07-06T21:56:14.170321Z"
    }
   },
   "outputs": [],
   "source": [
    "## Dash imports\n",
    "\n",
    "\n",
    "## Make app object\n",
    "\n",
    "\n",
    "## Make app layout\n",
    "\n",
    "\n",
    "## Run App\n"
   ]
  },
  {
   "cell_type": "markdown",
   "metadata": {},
   "source": [
    "> ***but can we select a subset of stocks?***"
   ]
  },
  {
   "cell_type": "markdown",
   "metadata": {},
   "source": [
    "## Our App with a Dropdown menu"
   ]
  },
  {
   "cell_type": "markdown",
   "metadata": {},
   "source": [
    "- The Dropdown menu expects a list of dictionaries for the options to display. \n",
    "    - Each element of the list gets a `'label'` (what to show the user) and a `'value'` (what the actual data is named).\n",
    "    \n",
    "    \n",
    "```python\n",
    "\n",
    "stock_options= [{'label':'MSFT','value':'MSFT'},\n",
    "               {'label':'AMZN','value':'AMZN'}]\n",
    "```\n"
   ]
  },
  {
   "cell_type": "code",
   "execution_count": null,
   "metadata": {
    "ExecuteTime": {
     "end_time": "2021-07-06T21:56:16.382772Z",
     "start_time": "2021-07-06T21:56:16.372011Z"
    }
   },
   "outputs": [],
   "source": [
    "def make_options(menu_choices,ignore_cols=['Date']):\n",
    "    \"\"\"Returns list of dictionary with {'label':menu_choice,'value':menu_choice}\"\"\"\n",
    "    options = []\n",
    "    for choice in menu_choices:\n",
    "        if choice not in ignore_cols:\n",
    "            options.append({'label':choice,'value':choice})\n",
    "    return options\n",
    "\n",
    "make_options(df.columns)"
   ]
  },
  {
   "cell_type": "markdown",
   "metadata": {},
   "source": [
    "> - [ ] Add a `dcc.Dropdown` with the options from above.Allow for selecting multiple stocks. \n",
    "```python\n",
    "dcc.Dropdown(options=make_options(df),multi=True)\n",
    "```"
   ]
  },
  {
   "cell_type": "code",
   "execution_count": null,
   "metadata": {
    "ExecuteTime": {
     "end_time": "2021-07-06T21:56:19.577396Z",
     "start_time": "2021-07-06T21:56:16.385128Z"
    },
    "scrolled": false
   },
   "outputs": [],
   "source": [
    "## Paste in previous app and add a Dropdown Widget\n"
   ]
  },
  {
   "cell_type": "markdown",
   "metadata": {},
   "source": [
    "> #### It is still showing ALL of the data. Why? <br> Because we need Callbacks!\n"
   ]
  },
  {
   "cell_type": "markdown",
   "metadata": {},
   "source": [
    "# **Part 3: Adding Interactivity with Callbacks**"
   ]
  },
  {
   "cell_type": "markdown",
   "metadata": {},
   "source": [
    "**Callbacks are functions that handle the interactivity between elements of our app**\n",
    "\n",
    ">#### Callback Documentation\\\n",
    "- https://dash.plotly.com/basic-callbacks\n",
    "- https://dash.plotly.com/advanced-callbacks"
   ]
  },
  {
   "cell_type": "markdown",
   "metadata": {},
   "source": [
    "## Basic Callbacks"
   ]
  },
  {
   "cell_type": "markdown",
   "metadata": {},
   "source": [
    "### To write a callback you will need: "
   ]
  },
  {
   "cell_type": "markdown",
   "metadata": {},
   "source": [
    "1. Additional imports from dash.dependencies\n",
    "```python\n",
    "from dash.dependencies import Input, Output\n",
    "```\n",
    "2. To make sure all components that need to connect together to have an `id`.\n",
    "\n",
    "```python\n",
    "dcc.Dropdown(id='choose_stocks',...\n",
    "```\n",
    "- A function that will update the visuals displayed\n",
    "```python\n",
    "def update_stocks(stocks):\n",
    "    return plot_stocks(df,stocks=stocks)\n",
    "```\n",
    "- A decorator function above that which uses the `Input` and `Output` classes to connect the arguments of your function with the pieces of the app that contain the information needed.\n",
    "\n",
    "```python\n",
    "@app.callback(Output('line_plot','figure'),\n",
    "              [Input('choose_stocks','value')])\n",
    "def update_stocks(stocks):\n",
    "    return plot_stocks(df,stocks=stocks)\n",
    "```"
   ]
  },
  {
   "cell_type": "markdown",
   "metadata": {},
   "source": [
    "## 📱 Our App with a Functional Dropdown Menu"
   ]
  },
  {
   "cell_type": "code",
   "execution_count": null,
   "metadata": {
    "ExecuteTime": {
     "end_time": "2021-07-06T22:51:50.436585Z",
     "start_time": "2021-07-06T22:51:49.705090Z"
    }
   },
   "outputs": [],
   "source": [
    "## Paste in previous app and add a callback function called \"update_stocks\"\n",
    "from dash.dependencies import Input, Output\n",
    "\n"
   ]
  },
  {
   "cell_type": "markdown",
   "metadata": {},
   "source": [
    "## More Advanced Callbacks"
   ]
  },
  {
   "cell_type": "markdown",
   "metadata": {},
   "source": [
    "- Multiple Inputs/Outputs"
   ]
  },
  {
   "cell_type": "markdown",
   "metadata": {},
   "source": [
    "### 📱Our App with Date Selection & User-Provided Stock Symbols"
   ]
  },
  {
   "cell_type": "markdown",
   "metadata": {},
   "source": [
    "- Date Range Picker: https://dash.plotly.com/dash-core-components/datepickerrange"
   ]
  },
  {
   "cell_type": "markdown",
   "metadata": {},
   "source": [
    "> To be able to programatically grab different time periods (and stocks), we will grab our data inside our callback function (instead of before-hand)."
   ]
  },
  {
   "cell_type": "code",
   "execution_count": null,
   "metadata": {
    "ExecuteTime": {
     "end_time": "2021-07-06T21:56:19.949853Z",
     "start_time": "2021-07-06T21:56:19.927822Z"
    }
   },
   "outputs": [],
   "source": [
    "## Updated versions of our get_data and plot_stocks_df functions\n",
    "today = dt.date.today().strftime(\"%Y-%m-%d\")\n",
    "def get_data(start_date='2012-02-01',end_date=today,\n",
    "             symbols = ['FB','AAPL','GOOGL','AMZN','MSFT','TSLA']):\n",
    "    \"\"\" Gets the historical stock dataa for the provided symbols for the \n",
    "    time period requested \n",
    "    \"\"\"\n",
    "    data = {}\n",
    "    for stock in symbols:\n",
    "        time.sleep(0.1)\n",
    "        try:\n",
    "            data[stock] = pdr.get_data_yahoo(stock,start_date,end_date)['Adj Close']\n",
    "        except:\n",
    "            print('Error with stock: '+stock)\n",
    "    df = pd.DataFrame(data)#.reset_index()\n",
    "    return df\n",
    "\n",
    "\n",
    "def plot_stocks_df(df=None,stocks=['FB','AAPL']):\n",
    "    if df is None:\n",
    "        df = get_data(stocks)#.reset_index()\n",
    "    \n",
    "    if df.index.name==\"Date\":\n",
    "        df.reset_index(inplace=True)\n",
    "    stocks_exist = [s for s in stocks if s in df.columns]\n",
    "    pfig = px.scatter(df,x='Date',y=stocks_exist)\n",
    "    return pfig"
   ]
  },
  {
   "cell_type": "markdown",
   "metadata": {},
   "source": [
    ">- To allow for any stock symbol, add a `dcc.Input` widget called \"choose_stocks\" that has a value & placeholder of \"MSFT,AMZN\" as 1 string.\n",
    "    - Also, add the choose stocks value as an additional input to our callback function."
   ]
  },
  {
   "cell_type": "code",
   "execution_count": null,
   "metadata": {
    "ExecuteTime": {
     "end_time": "2021-07-06T21:56:20.301146Z",
     "start_time": "2021-07-06T21:56:19.952057Z"
    },
    "scrolled": true
   },
   "outputs": [],
   "source": [
    "## Copy the prior app and make the above changes\n"
   ]
  },
  {
   "cell_type": "markdown",
   "metadata": {},
   "source": [
    "> #### But the app tries to update with each keystroke. What if you have an API with limited calls??"
   ]
  },
  {
   "cell_type": "markdown",
   "metadata": {},
   "source": [
    "### Multiple Inputs with State"
   ]
  },
  {
   "cell_type": "markdown",
   "metadata": {},
   "source": [
    "- Multiple Inputs that we want the user to select BEFORE we update our dashboard. \n",
    "- We will use the State class from dash to accomplish this\n",
    "\n",
    "- To do this: \n",
    "    1. import State from dash.dependencies.\n",
    "    ```python\n",
    "    from dash.dependencies import Input, Output,State\n",
    "    ```\n",
    "    2. Add an html Button to the app. \n",
    "    3. Use the submit button's `n_clicks` as the Input for our callback. \n",
    "    4. Change our prior `Inputs` to `States`"
   ]
  },
  {
   "cell_type": "code",
   "execution_count": null,
   "metadata": {
    "ExecuteTime": {
     "end_time": "2021-07-06T21:56:20.670891Z",
     "start_time": "2021-07-06T21:56:20.303166Z"
    },
    "scrolled": false
   },
   "outputs": [],
   "source": [
    "## Copy the prior app and make the above changes\n"
   ]
  },
  {
   "cell_type": "markdown",
   "metadata": {},
   "source": [
    "> #### and that's it! We did it!!"
   ]
  },
  {
   "cell_type": "markdown",
   "metadata": {},
   "source": [
    "## 📱The Final Dash App"
   ]
  },
  {
   "cell_type": "markdown",
   "metadata": {},
   "source": [
    "> Below is the code for the final app. If there's time, move the code to an app.py file and change back to a normal Dash dashboard.\n",
    "\n",
    "1. Change `app = JupyterDash(` to `app = dash.Dash`)\n",
    "2. Add back the `if __name__=='__main__':` block\n",
    "3. Move `app.run_server` inside of this block and remove the `mode` argument. \n",
    "\n",
    "\n",
    "- If not: check out `for_class`>`final_app.py`"
   ]
  },
  {
   "cell_type": "code",
   "execution_count": null,
   "metadata": {},
   "outputs": [],
   "source": [
    "import datetime as dt\n",
    "from datetime import date\n",
    "from pandas_datareader import data as pdr\n",
    "import yfinance as yfin\n",
    "yfin.pdr_override()\n",
    "\n",
    "import dash\n",
    "import dash_core_components as dcc\n",
    "import dash_html_components as html\n",
    "from dash.dependencies import Input, Output,State\n",
    "\n",
    "import numpy as np\n",
    "np.random.seed(321)\n",
    "\n",
    "import pandas as pd\n",
    "import matplotlib.pyplot as plt\n",
    "import seaborn as sns\n",
    "plt.rcParams['figure.figsize'] = (12,4)\n",
    "\n",
    "import plotly.express as px\n",
    "import plotly.io as pio\n",
    "pio.templates.default = \"plotly_dark\"\n",
    "\n",
    "from jupyter_dash import JupyterDash\n",
    "\n",
    "## Saving today for use in functions and app\n",
    "today = dt.date.today().strftime(\"%Y-%m-%d\")\n",
    "def get_data(start_date='2012-02-01',end_date=today,\n",
    "             symbols = ['FB','AAPL','GOOGL','AMZN','MSFT','TSLA']):\n",
    "    \"\"\" Gets the historical stock dataa for the provided symbols for the \n",
    "    time period requested \n",
    "    \"\"\"\n",
    "    data = {}\n",
    "    for stock in symbols:\n",
    "        time.sleep(0.1)\n",
    "        try:\n",
    "            data[stock] = pdr.get_data_yahoo(stock,start_date,end_date)['Adj Close']\n",
    "        except:\n",
    "            print('Error with stock: '+stock)\n",
    "    df = pd.DataFrame(data)#.reset_index()\n",
    "    return df\n",
    "\n",
    "\n",
    "def plot_stocks_df(df=None,stocks=['FB','AAPL']):\n",
    "    if df is None:\n",
    "        df = get_data(stocks)#.reset_index()\n",
    "            \n",
    "    if df.index.name==\"Date\":\n",
    "        df.reset_index(inplace=True)\n",
    "        \n",
    "    stocks_exist = [s for s in stocks if s in df.columns]\n",
    "    pfig = px.scatter(df,x='Date',y=stocks_exist)\n",
    "    return pfig\n",
    "\n",
    "\n",
    "app = JupyterDash('Example', #external_stylesheets=external_stylesheets,\n",
    "                  serve_locally=False)\n",
    "defaults = ['MSFT','AMZN']\n",
    "# df = get_data(date(2012, 1, 1))\n",
    "\n",
    "app.layout = html.Div(children = [\n",
    "    html.H1('Our AMAZING Dashboard'),\n",
    "    \n",
    "    html.Div(children=[\n",
    "        html.Div(style={\"border\":'1px solid black','padding':'3px'},id='menu',children=[\n",
    "            html.H3('Enter stock symbols, separated by a comma.\\nPress Enter to update.'),\n",
    "\n",
    "            dcc.Input(id='choose_stocks',value='MSFT,AMZN',\n",
    "                      placeholder='MSFT,AAPL',#,\n",
    "                         style={'width': '90%', 'height': 50}),           \n",
    "\n",
    "            dcc.DatePickerRange( id='my-date-picker-range',\n",
    "                                start_date=date(2012,1,1),\n",
    "                                min_date_allowed=date(2010, 1, 1),\n",
    "                                max_date_allowed=today,#date.today(),#date(2021),\n",
    "                                end_date=today,style={'width':'50%'}),#date.today()), #date(2017, 8, 25)),\n",
    "            html.Button('Submit',id='submit',style={'size':'40 px'})\n",
    "    \n",
    "        ]),\n",
    "        \n",
    "        dcc.Graph(id='line_plot')\n",
    "\n",
    "    ])\n",
    "])\n",
    "\n",
    "@app.callback(Output('line_plot','figure'),\n",
    "              [Input('submit','n_clicks')],\n",
    "              [State('choose_stocks','value'),\n",
    "               State('my-date-picker-range', 'start_date'),\n",
    "               State('my-date-picker-range', 'end_date')])\n",
    "def update_stocks(n_clicks, stocks,start_date,end_date):\n",
    "    stocks = stocks.split(',')\n",
    "    plot_df = get_data(start_date,end_date,symbols=stocks)\n",
    "    return plot_stocks_df(df=plot_df,stocks=stocks)#,start_date,end_date)\n",
    "    \n",
    "app.run_server(mode='inline',host='127.0.0.1')"
   ]
  },
  {
   "cell_type": "code",
   "execution_count": null,
   "metadata": {},
   "outputs": [],
   "source": []
  },
  {
   "cell_type": "markdown",
   "metadata": {},
   "source": [
    "# **Part 4: Making the same app in Streamlit**"
   ]
  },
  {
   "cell_type": "markdown",
   "metadata": {},
   "source": [
    "- Streamlit is a new, easy-to-use package for developing apps.\n",
    "    - https://www.streamlit.io/\n",
    "    \n",
    "- It is easier to use than Dash, but not as customizable. \n",
    "- We will not need to write any callback functions to make our streamlit dashboard\n",
    "\n",
    "\n",
    "\n",
    "#### Streamlit References:\n",
    "\n",
    "- Streamlit Docs: \n",
    "    - [Getting Started Tutorial](https://docs.streamlit.io/en/stable/getting_started.html)\n",
    "        - [API reference](https://docs.streamlit.io/en/stable/api.html)\n",
    "\n",
    "- Blog Posts:\n",
    "    - [Intermediate Streamlit](https://towardsdatascience.com/intermediate-streamlit-d5a1381daa65)"
   ]
  },
  {
   "cell_type": "markdown",
   "metadata": {},
   "source": [
    "> - Open `streamlit_app.py` and compare!\n",
    "> - To run, install streamlit and then run the following command in your terminal \n",
    "`streamlit run streamlit_app.py`"
   ]
  },
  {
   "cell_type": "code",
   "execution_count": null,
   "metadata": {
    "ExecuteTime": {
     "end_time": "2021-07-06T21:56:20.679284Z",
     "start_time": "2021-07-06T21:56:20.673373Z"
    }
   },
   "outputs": [],
   "source": [
    "from IPython.display import display,Markdown\n",
    "with open('streamlit_app.py') as file:\n",
    "    display(Markdown(\"```python\\n\"+file.read()+'\\n```'))"
   ]
  },
  {
   "cell_type": "markdown",
   "metadata": {},
   "source": [
    "# APPENDIX"
   ]
  },
  {
   "cell_type": "markdown",
   "metadata": {},
   "source": [
    "## How to Deploy Your Dash App with `Herokuapp`"
   ]
  },
  {
   "cell_type": "markdown",
   "metadata": {},
   "source": [
    "> Note: this is only an introduction to heroku and we could spend another study group on it.\n"
   ]
  },
  {
   "cell_type": "markdown",
   "metadata": {},
   "source": [
    "### 📺 Office Hours Recording on Heroku\n",
    "- Here is one of my Capstone Office Hours on Deploying Apps with Heroku.\n",
    "    - [YouTube Link](https://youtu.be/wtNP2uJTHys?t=835)"
   ]
  },
  {
   "cell_type": "markdown",
   "metadata": {},
   "source": [
    "#### Deploying Your App For Free with Heroku\n"
   ]
  },
  {
   "cell_type": "markdown",
   "metadata": {},
   "source": [
    "1. Go through official Heroku Python Tutorial:\n",
    "    - https://devcenter.heroku.com/articles/getting-started-with-python\n",
    "    \n",
    "    \n",
    "    \n",
    "2. Use this template as a starting point for your app.\n",
    "    - ~~https://github.com/plotly/dash-heroku-template~~\n",
    "    - My Modified Template:\n",
    "        - https://github.com/jirvingphd/dash-heroku-template.git\n",
    "    \n",
    "    \n",
    "3. Go through official Dash tutorial to get your app.py started with their example Layout app\n",
    "    - https://dash.plotly.com/\n",
    "    \n",
    "    \n",
    "4. Checkout the Official Dash/Herokuapp Tutorial for how to make your repo into an app \n",
    "    - https://dash.plotly.com/deployment\n",
    "  "
   ]
  },
  {
   "cell_type": "markdown",
   "metadata": {},
   "source": [
    "## How to Deploy your Streamlit App"
   ]
  },
  {
   "cell_type": "markdown",
   "metadata": {},
   "source": [
    "- Visit https://streamlit.io/sharing and sign up for an Invite.\n",
    "    - Include the link to your repo with your streamlit app and they will deploy it and email you the link."
   ]
  },
  {
   "cell_type": "code",
   "execution_count": null,
   "metadata": {},
   "outputs": [],
   "source": []
  }
 ],
 "metadata": {
  "kernelspec": {
   "display_name": "learn-env",
   "language": "python",
   "name": "learn-env"
  },
  "language_info": {
   "codemirror_mode": {
    "name": "ipython",
    "version": 3
   },
   "file_extension": ".py",
   "mimetype": "text/x-python",
   "name": "python",
   "nbconvert_exporter": "python",
   "pygments_lexer": "ipython3",
   "version": "3.6.9"
  },
  "toc": {
   "base_numbering": 1,
   "nav_menu": {},
   "number_sections": false,
   "sideBar": true,
   "skip_h1_title": false,
   "title_cell": "Table of Contents",
   "title_sidebar": "Contents",
   "toc_cell": true,
   "toc_position": {
    "height": "calc(100% - 180px)",
    "left": "10px",
    "top": "150px",
    "width": "256px"
   },
   "toc_section_display": true,
   "toc_window_display": true
  },
  "widgets": {
   "application/vnd.jupyter.widget-state+json": {
    "state": {},
    "version_major": 2,
    "version_minor": 0
   }
  }
 },
 "nbformat": 4,
 "nbformat_minor": 2
}
